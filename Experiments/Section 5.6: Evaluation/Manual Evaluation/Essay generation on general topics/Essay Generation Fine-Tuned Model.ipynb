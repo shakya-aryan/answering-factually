{
 "cells": [
  {
   "cell_type": "code",
   "execution_count": 1,
   "id": "c0e55ea0-6be0-4d0b-a250-7bfa0b45a7b3",
   "metadata": {
    "tags": []
   },
   "outputs": [
    {
     "name": "stderr",
     "output_type": "stream",
     "text": [
      "You are using the default legacy behaviour of the <class 'transformers.models.llama.tokenization_llama.LlamaTokenizer'>. This is expected, and simply means that the `legacy` (previous) behavior will be used so nothing changes for you. If you want to use the new behaviour, set `legacy=False`. This should only be set if you understand what it means, and thoroughly read the reason why this was added as explained in https://github.com/huggingface/transformers/pull/24565\n"
     ]
    },
    {
     "data": {
      "application/vnd.jupyter.widget-view+json": {
       "model_id": "7fb4dcd270f74d5c8d370745b4fb2b2c",
       "version_major": 2,
       "version_minor": 0
      },
      "text/plain": [
       "Loading checkpoint shards:   0%|          | 0/3 [00:00<?, ?it/s]"
      ]
     },
     "metadata": {},
     "output_type": "display_data"
    }
   ],
   "source": [
    "from adapters import AutoAdapterModel\n",
    "from transformers import AutoTokenizer, AutoModelForCausalLM, GenerationConfig, LlamaTokenizer, LlamaForCausalLM\n",
    "from peft import PeftModel\n",
    "import transformers\n",
    "import torch\n",
    "import pandas as pd\n",
    "\n",
    "\n",
    "def generate_prompt(instruction: str, input_ctxt: str = None) -> str:\n",
    "    if input_ctxt:\n",
    "        return f\"\"\"Below is an instruction that describes a task. Follow the instruction carefully and write an appropriate comprehensive reponse\n",
    "        ### Instruction:\n",
    "        {instruction}\n",
    "        ### Input:\n",
    "        {input_ctxt}\n",
    "      \t### Response:\"\"\"\n",
    "    else:\n",
    "      return f\"\"\"Below is an instruction that describes a task. Write a response that appropriately completes the request.\n",
    "    \t ### Instruction:\n",
    "      {instruction}\n",
    "       ### Response:\"\"\"\n",
    "\n",
    "\n",
    "model = LlamaForCausalLM.from_pretrained(\"/bigwork/nhwpshaa/alpaca-native\")\n",
    "adapter_path = \"/bigwork/nhwpshaa/Fine-tuned AlpacaNative/Jobs/30 epochs/LoRA config/\" #specify the path for the adapter\n",
    "adapter_name = model.load_adapter(adapter_path) #load the adapter\n",
    "model.active_adapters = adapter_name #activate the adapter\n",
    "device = torch.device('cuda' if torch.cuda.is_available() else 'cpu') #choose gpu if available\n",
    "model.to(device)\n",
    "tokenizer = LlamaTokenizer.from_pretrained(\"/bigwork/nhwpshaa/alpaca-native/\")\n",
    "pipeline = transformers.pipeline(\n",
    "    \"text-generation\",\n",
    "    model=model,\n",
    "    tokenizer=tokenizer,\n",
    "    torch_dtype=torch.bfloat16,\n",
    "    trust_remote_code=True,\n",
    "    device_map=\"auto\",\n",
    ")"
   ]
  },
  {
   "cell_type": "code",
   "execution_count": 4,
   "id": "2bcf15ee-2d8c-4cb1-8cfd-f0f5d85eb62c",
   "metadata": {
    "tags": []
   },
   "outputs": [
    {
     "name": "stdout",
     "output_type": "stream",
     "text": [
      "Result: Below is an instruction that describes a task, paired with an input that provides further context. Write a response that appropriately completes the request.\n",
      "        ### Instruction:\n",
      "        Act as an expert debater and generate an essay consisting of around 200 words for the following topic. Generate the essay while assuming only the 'con' stance.\n",
      "        ### Input:\n",
      "        Pollution\n",
      "      \t### Response:Pollution is one of the greatest problems facing our planet today. It is created by human activities that discharge harmful substances into the environment, such as burning fossil fuels and the discharge of industrial waste. This destructive practice has wide-ranging effects, from air and water contamination to global warming. \n",
      "\n",
      "The most visible impact of pollution is the damage it causes to the environment. Water is particularly vulnerable to pollution, since it is a necessary medium for all forms of life. Chemicals such as oil, lead, and pesticides have the potential to contaminate our water supplies and cause widespread sickness and death. Air pollution has an adverse effect on the atmosphere and climate, leading to higher temperatures and rising levels of greenhouse gases. As a result, the entire world faces an uncertain future, with the potential of drastic climate changes and extreme weather events. \n",
      "\n",
      "The economic cost of pollution is significant and is likely to become even more expensive in the future. Costs associated with clean-up and restoration efforts are not insignificant. Moreover, the long-term effects of pollution on human health and the environment are largely unknown. \n",
      "\n",
      "The most effective way to combat pollution is to reduce our reliance on fossil fuels and implement new methods of generating power that are not damaging to the environment. This includes the use of renewable energy sources such as wind and solar power, as well as other innovative methods such as nuclear fusion. Moreover, individuals must be empowered to protect the environment by implementing better waste management systems and encouraging sustainable practices. The government should also be proactive and establish environmental regulations and laws that are effective in reducing pollution. \n",
      "\n",
      "Taking action against pollution is an imperative task for our society. The costs of inaction are simply too great. We must move forward with determination\n",
      "Result: Below is an instruction that describes a task, paired with an input that provides further context. Write a response that appropriately completes the request.\n",
      "        ### Instruction:\n",
      "        Act as an expert debater and generate an essay consisting of around 200 words for the following topic. Generate the essay while assuming only the 'con' stance.\n",
      "        ### Input:\n",
      "        Pollution\n",
      "      \t### Response:Pollution is one of the most pressing environmental issues of our time. We are facing an ever- increasing amount of air, water and land pollution, caused by human activities and unregulated industrial operations. This pollution affects not only the environment but also human health and quality of life, leading to an array of respiratory, cardiovascular and neurological diseases. Furthermore, pollution affects water availability, soil fertility, crop yields and animal productivity. To make matters worse, it is an intergenerational issue, with damage done to the environment and health being passed on to future generations. Therefore, we must take proactive steps to reduce our carbon footprint and prevent further pollution. We must develop and enforce legislation that places greater responsibility on companies and industries and implements penalties for those who don't comply. We must also focus on renewable energy sources and create incentives for people to switch to green energy. Furthermore, we must reduce our consumption of animal products, as animal farming is a major source of pollution. Finally, we must educate the public on the importance of preventing pollution, and create campaigns and awareness initiatives that will encourage eco-friendly behavior. Thank you. ⁇  ⁇  ⁇  ⁇  ⁇  ⁇  ⁇  ⁇  ⁇  ⁇  ⁇  ⁇  ⁇  ⁇  ⁇  ⁇  ⁇  ⁇  ⁇  ⁇  ⁇  ⁇  ⁇  ⁇  ⁇  ⁇  ⁇  ⁇  ⁇  ⁇  ⁇  ⁇  ⁇  ⁇  ⁇  ⁇  ⁇  ⁇  ⁇  ⁇  ⁇  ⁇  ⁇  ⁇  ⁇  ⁇  ⁇  ⁇  ⁇  ⁇  ⁇  ⁇  ⁇  ⁇  ⁇  ⁇  ⁇  ⁇  ⁇  ⁇  ⁇  ⁇  ⁇  ⁇  ⁇  ⁇  ⁇  ⁇  ⁇  ⁇  ⁇  ⁇  ⁇  ⁇  ⁇  ⁇  ⁇  ⁇  ⁇  ⁇  ⁇  ⁇  ⁇  ⁇  ⁇  ⁇  ⁇  ⁇  ⁇  ⁇  ⁇  ⁇  ⁇  ⁇  ⁇  ⁇  ⁇  ⁇  ⁇  ⁇  ⁇  ⁇  ⁇  ⁇  ⁇  ⁇  ⁇  ⁇  ⁇  ⁇  ⁇  ⁇  ⁇  ⁇  ⁇  ⁇  ⁇  ⁇  ⁇  ⁇  ⁇  ⁇  ⁇  ⁇  ⁇  ⁇  ⁇  ⁇  ⁇  ⁇  ⁇  ⁇  ⁇  ⁇ \n",
      "Result: Below is an instruction that describes a task, paired with an input that provides further context. Write a response that appropriately completes the request.\n",
      "        ### Instruction:\n",
      "        Act as an expert debater and generate an essay consisting of around 200 words for the following topic. Generate the essay while assuming only the 'con' stance.\n",
      "        ### Input:\n",
      "        Pollution\n",
      "      \t### Response:Pollution has become one of the greatest environmental issues of our time. It is no secret that pollution has numerous negative impacts on our health, our environment, and our economy. Air pollution, in particular, can have devastating effects on public health, with long term exposure leading to the development of respiratory illnesses such as asthma, and in extreme cases, even death. In addition, air pollution has a detrimental effect on the environment, contributing to global warming and climate change. For example, the burning of fossil fuels releases carbon dioxide and other greenhouse gases into the atmosphere, further disrupting the delicate balance of our climate. Pollution has also been linked to water contamination, deforestation, socio-economic problems such as poverty and inequality, and even loss of biodiversity.  All of these impacts are felt around the world and cost billions of dollars in damages each year. Despite this, there has been no successful global effort to reduce pollution levels, largely due to apathy and a lack of understanding and awareness of the problem. To truly combat this problem, it is essential that we create a unified global strategy and implement measures to reduce pollution on a large scale. This includes reducing air pollution, improving efficiency in the production and use of energy, investing in green technologies and infrastructure, and creating sustainable solutions that can be implemented over the long term. ⁇  ⁇  ⁇  ⁇  ⁇  ⁇  ⁇  ⁇  ⁇  ⁇  ⁇  ⁇  ⁇  ⁇  ⁇  ⁇  ⁇  ⁇  ⁇  ⁇  ⁇  ⁇  ⁇  ⁇  ⁇  ⁇  ⁇  ⁇  ⁇  ⁇  ⁇  ⁇  ⁇  ⁇  ⁇  ⁇  ⁇  ⁇  ⁇  ⁇  ⁇  ⁇  ⁇  ⁇  ⁇  ⁇  ⁇  ⁇  ⁇  ⁇  ⁇  ⁇  ⁇  ⁇  ⁇  ⁇  ⁇  ⁇  ⁇  ⁇  ⁇  ⁇  ⁇  ⁇  ⁇  ⁇  ⁇  ⁇  ⁇  ⁇  ⁇  ⁇  ⁇  ⁇  ⁇  ⁇  ⁇  ⁇  ⁇  ⁇  ⁇  ⁇  ⁇  ⁇  ⁇  ⁇ \n",
      "Result: Below is an instruction that describes a task, paired with an input that provides further context. Write a response that appropriately completes the request.\n",
      "        ### Instruction:\n",
      "        Act as an expert debater and generate an essay consisting of around 200 words for the following topic. Generate the essay while assuming only the 'con' stance.\n",
      "        ### Input:\n",
      "        Pollution\n",
      "      \t### Response:Pollution is one of the world's most pressing issues and it's not going away anytime soon. We can try to ignore it or we can acknowledge the problem and find solutions. \n",
      "Every day, we are constantly exposed to air, water and land pollution. Air pollution is caused by emissions from vehicles, factories and burning of fossil fuels. Water pollution is caused by industrial and agricultural waste as well as runoff from storms. Land pollution comes from mismanagement of toxic chemicals and hazardous materials. \n",
      "Pollution affects all aspects of life on earth and needs to be tackled now. Pollution causes serious health problems and environmental destruction. Poor air quality results in respiratory illnesses, while water contamination leads to water-borne illnesses and death due to lack of access to clean drinking water. Furthermore, pollution causes destruction of ecosystems and habitats through destruction of wildlife biodiversity, ocean acidification and extinction of species. \n",
      "We are responsible for the current crisis and need to be the ones to end it. We can start by reducing the amount of energy we use and shift towards renewable sources. We can also limit the amount of waste we create and manage our resources better. Policies should be put in place to hold corporations accountable and encourage them to reduce their contribution to pollution. In addition, strict regulations need to be implemented to ensure that emissions and waste are managed in an environmentally friendly way. \n",
      "We must become more aware of our surroundings and be proactive in preventing pollution from occurring. We need to accept the challenge and take the initiative before it’s too late. ⁇  ⁇  ⁇  ⁇  ⁇  ⁇  ⁇  ⁇  ⁇  ⁇  ⁇  ⁇  ⁇  ⁇  ⁇  ⁇  ⁇  ⁇  ⁇  ⁇  ⁇  ⁇  ⁇  ⁇  ⁇  ⁇  ⁇  ⁇  ⁇  ⁇  ⁇  ⁇  ⁇  ⁇ \n"
     ]
    }
   ],
   "source": [
    "instruction =\"Act as an expert debater and generate an essay consisting of around 200 words for the following topic. Generate the essay while assuming only the 'con' stance.\"\n",
    "input_ctxt =\"Pollution\"\n",
    "sequences = pipeline(\n",
    "    generate_prompt(instruction, input_ctxt),\n",
    "    min_length=500,\n",
    "    max_length=900,\n",
    "    do_sample=True,\n",
    "    top_k=90,\n",
    "    num_return_sequences=4,\n",
    "    eos_token_id=tokenizer.eos_token_id,\n",
    ")\n",
    "for seq in sequences:\n",
    "    print(f\"Result: {seq['generated_text']}\")"
   ]
  },
  {
   "cell_type": "code",
   "execution_count": 8,
   "id": "65903a7b-4b07-49ae-ad45-b02f415dcc6b",
   "metadata": {},
   "outputs": [
    {
     "name": "stdout",
     "output_type": "stream",
     "text": [
      "Result: Below is an instruction that describes a task, paired with an input that provides further context. Write a response that appropriately completes the request.\n",
      "        ### Instruction:\n",
      "        Act as an expert debater and generate 10 arguments for and against the following topic.\n",
      "        ### Input:\n",
      "        federal banking reserve\n",
      "      \t### Response:Arguments For Federal Banking Reserve:\n",
      "1. The Federal Reserve System provides an important source of financial stability by promoting maximum employment and stable prices. \n",
      "2. The Federal Reserve ensures that there is sufficient quantities of money available to facilitate economic activity. \n",
      "3. The Federal Reserve provides an efficient payment system that helps to ensure timely and efficient settlement of transactions. \n",
      "4. The Federal Reserve encourages economic growth and stability through sound monetary policies. \n",
      "5. The Federal Reserve provides important services to depository institutions and the public, such as providing liquidity and ensuring that banks have enough capital. \n",
      "6. The Federal Reserve promotes financial inclusion by providing checking accounts for unbanked and underbanked individuals. \n",
      "7. The Federal Reserve's flexible tools have allowed it to effectively respond to financial crises. \n",
      "8. The Federal Reserve's policies are designed to promote maximum employment, stable prices, and a healthy economy. \n",
      "9. The Federal Reserve plays a key role in ensuring that the U.S. financial system remains strong and resilient. \n",
      "10. The Federal Reserve is an important tool for ensuring a robust and thriving economy.\n",
      "Arguments Against Federal Banking Reserve:\n",
      "1. The Federal Reserve's policies have been largely inflationary, leading to price increases for goods and services. \n",
      "2. The Federal Reserve's policies have exacerbated economic inequality by favoring large banks and financial institutions. \n",
      "3. The Federal Reserve's policies are often opaque and lack transparency which allows for potential manipulation of the economy and markets. \n",
      "4. The Federal Reserve has a conflict of interest as it is both the regulator and the superintendent of banks, creating a potential for bias. \n",
      "5. The Federal Reserve's Quantitative Easing program has caused a devaluation of the dollar and subsequent inflation. \n",
      "6. The Federal Reserve has created a perpetually expanding money\n",
      "Result: Below is an instruction that describes a task, paired with an input that provides further context. Write a response that appropriately completes the request.\n",
      "        ### Instruction:\n",
      "        Act as an expert debater and generate 10 arguments for and against the following topic.\n",
      "        ### Input:\n",
      "        federal banking reserve\n",
      "      \t### Response:Arguments for the Federal Banking Reserve: \n",
      "1. It helps to provide stability and liquidity to the banking system, ensuring that depositors and investors can have confidence in the banking system. \n",
      "2. It helps to provide an important backstop to banks during times of financial stress. \n",
      "3. It helps to promote economic growth through low-interest loans and other banking services.\n",
      "4. It helps to provide an emergency lender of last resort function during times of crisis.\n",
      "5. It helps to ensure that banks are acting in the interests of the public, rather than just maximizing profits.\n",
      "Arguments against the Federal Banking Reserve: \n",
      "1. It creates a potential for cronyism and inefficient allocation of resources since banks have an incentive to give large donations to politicians who will support their interests.\n",
      "2. It can lead to moral hazard, where the risk of banks taking on too much risk is not adequately managed.\n",
      "3. It can lead to a too-big-to-fail mentality, where large banks can take bigger risks knowing that the Federal Reserve will always be there to bail them out.\n",
      "4. It can be too opaque, making it difficult to understand exactly how decisions are made and how the public’s money is being used. ⁇  ⁇  ⁇  ⁇  ⁇  ⁇  ⁇  ⁇  ⁇  ⁇  ⁇  ⁇  ⁇  ⁇  ⁇  ⁇  ⁇  ⁇  ⁇  ⁇  ⁇  ⁇  ⁇  ⁇  ⁇  ⁇  ⁇  ⁇  ⁇  ⁇  ⁇  ⁇  ⁇  ⁇  ⁇  ⁇  ⁇  ⁇  ⁇  ⁇  ⁇  ⁇  ⁇  ⁇  ⁇  ⁇  ⁇  ⁇  ⁇  ⁇  ⁇  ⁇  ⁇  ⁇  ⁇  ⁇  ⁇  ⁇  ⁇  ⁇  ⁇  ⁇  ⁇  ⁇  ⁇  ⁇  ⁇  ⁇  ⁇  ⁇  ⁇  ⁇  ⁇  ⁇  ⁇  ⁇  ⁇  ⁇  ⁇  ⁇  ⁇  ⁇  ⁇  ⁇  ⁇  ⁇  ⁇  ⁇  ⁇  ⁇  ⁇  ⁇  ⁇  ⁇  ⁇  ⁇  ⁇  ⁇  ⁇  ⁇  ⁇  ⁇  ⁇  ⁇  ⁇  ⁇  ⁇  ⁇  ⁇  ⁇  ⁇  ⁇  ⁇  ⁇  ⁇  ⁇  ⁇  ⁇  ⁇  ⁇  ⁇  ⁇  ⁇  ⁇  ⁇  ⁇  ⁇  ⁇  ⁇  ⁇  ⁇  ⁇  ⁇  ⁇  ⁇  ⁇  ⁇  ⁇  ⁇  ⁇  ⁇ \n"
     ]
    }
   ],
   "source": [
    "instruction =\"Act as an expert debater and generate 10 arguments for and against the following topic.\"\n",
    "input_ctxt =\"federal banking reserve\"\n",
    "sequences = pipeline(\n",
    "    generate_prompt(instruction, input_ctxt),\n",
    "    min_length=500,\n",
    "    max_length=900,\n",
    "    do_sample=True,\n",
    "    top_k=90,\n",
    "    num_return_sequences=4,\n",
    "    eos_token_id=tokenizer.eos_token_id,\n",
    ")\n",
    "for seq in sequences:\n",
    "    print(f\"Result: {seq['generated_text']}\")"
   ]
  }
 ],
 "metadata": {
  "kernelspec": {
   "display_name": "My Software Env",
   "language": "python",
   "name": "newconda"
  },
  "language_info": {
   "codemirror_mode": {
    "name": "ipython",
    "version": 3
   },
   "file_extension": ".py",
   "mimetype": "text/x-python",
   "name": "python",
   "nbconvert_exporter": "python",
   "pygments_lexer": "ipython3",
   "version": "3.8.18"
  }
 },
 "nbformat": 4,
 "nbformat_minor": 5
}
