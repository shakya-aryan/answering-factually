{
 "cells": [
  {
   "cell_type": "code",
   "execution_count": 3,
   "id": "c0e55ea0-6be0-4d0b-a250-7bfa0b45a7b3",
   "metadata": {
    "tags": []
   },
   "outputs": [
    {
     "data": {
      "application/vnd.jupyter.widget-view+json": {
       "model_id": "897805544bfa42298988d53708aa6836",
       "version_major": 2,
       "version_minor": 0
      },
      "text/plain": [
       "Loading checkpoint shards:   0%|          | 0/3 [00:00<?, ?it/s]"
      ]
     },
     "metadata": {},
     "output_type": "display_data"
    }
   ],
   "source": [
    "from transformers import AutoTokenizer, AutoModelForCausalLM, GenerationConfig, LlamaTokenizer, LlamaForCausalLM\n",
    "import transformers\n",
    "import torch\n",
    "\n",
    "def generate_prompt(instruction: str, input_ctxt: str = None) -> str: #sandard promptting made available in model card in huggingFace\n",
    "    if input_ctxt:\n",
    "        return f\"\"\"Below is an instruction that describes a task, paired with an input that provides further context. Write a response that appropriately completes the request.\n",
    "        ### Instruction:\n",
    "        {instruction}\n",
    "        ### Input:\n",
    "        {input_ctxt}\n",
    "      \t### Response:\"\"\"\n",
    "    else:\n",
    "      return f\"\"\"Below is an instruction that describes a task. Write a response that appropriately completes the request.\n",
    "    \t ### Instruction:\n",
    "      {instruction}\n",
    "       ### Response:\"\"\"\n",
    "\n",
    "\n",
    "model = \"/bigwork/nhwpshaa/alpaca-native\" #load the model\n",
    "tokenizer = LlamaTokenizer.from_pretrained(\"/bigwork/nhwpshaa/alpaca-native/\")\n",
    "pipeline = transformers.pipeline(\n",
    "    \"text-generation\",\n",
    "    model=model,\n",
    "    tokenizer=tokenizer,\n",
    "    torch_dtype=torch.bfloat16,\n",
    "    trust_remote_code=True,\n",
    "    device_map=\"auto\",\n",
    ")\n"
   ]
  },
  {
   "cell_type": "code",
   "execution_count": 5,
   "id": "2bcf15ee-2d8c-4cb1-8cfd-f0f5d85eb62c",
   "metadata": {
    "tags": []
   },
   "outputs": [
    {
     "name": "stdout",
     "output_type": "stream",
     "text": [
      "Result: Below is an instruction that describes a task, paired with an input that provides further context. Write a response that appropriately completes the request.\n",
      "        ### Instruction:\n",
      "        Act as an expert deabater and generate an essay consisting of around 200 words for the following topic. Generate the essay while assuming only the 'con' stance.\n",
      "        ### Input:\n",
      "        Pollution\n",
      "      \t### Response:Pollution is one of the most pressing issues of our time. It is caused by the release of harmful substances into the environment and has numerous negative impacts on the economy, the health of citizens, and the natural world. The sources of pollution range from factories, vehicles, to burnable materials, and while some regulation of these activities is necessary, more often than not, existing regulations are not stringent enough. \n",
      "\n",
      "Industrial pollution is particularly damaging as it is released into the atmosphere and into our bodies. The burning of fossil fuels such as coal and oil releases hazardous gases such as carbon dioxide and other greenhouse gases. These gases trap heat inside our atmosphere and cause climate change, resulting in the melting of polar ice caps, rising sea levels, and more frequent and severe storms.\n",
      "\n",
      "The health effects of air pollution are also profound. The particulate matter and smoke from burning pollutants can cause lung and heart disease, asthma, and other respiratory illnesses. In addition, the carcinogenic substances in the air can lead to cancer. In terms of environmental damage, air pollution can lead to the dying of trees, the loss of biodiversity of species, and the contamination of groundwater.\n",
      "\n",
      "Pollution is a difficult issue to address, but not tackling it is far more damaging. We must create better regulations and enforce them more stringently in order to stem the tide of pollution. We must also transition to renewable sources of energy, such as solar and wind power, in order to reduce our reliance on fossil fuels. Finally, we must educate the public on the risks of pollution and how they can help clean up their surroundings. ⁇  ⁇  ⁇  ⁇  ⁇  ⁇  ⁇  ⁇  ⁇  ⁇  ⁇  ⁇  ⁇  ⁇  ⁇  ⁇  ⁇  ⁇  ⁇  ⁇ \n",
      "Result: Below is an instruction that describes a task, paired with an input that provides further context. Write a response that appropriately completes the request.\n",
      "        ### Instruction:\n",
      "        Act as an expert deabater and generate an essay consisting of around 200 words for the following topic. Generate the essay while assuming only the 'con' stance.\n",
      "        ### Input:\n",
      "        Pollution\n",
      "      \t### Response:Pollution is a major global issue that impacts us all. It is caused by a range of factors, from industrial waste to car exhausts, and has a range of negative impacts on the environment, our health, and our economy. It not only threatens the health of humans, but also the health of our planet and the species that live on it. The solution to this crisis is clear: we must reduce our dependence on fossil fuels and embrace cleaner forms of energy. \n",
      "\n",
      "In terms of public health, pollution has a number of direct and indirect impacts. In some regions, breathing polluted air is a leading cause of premature death, while in other parts, it is linked to a range of respiratory and cardiovascular issues. In addition, the toxic substances released into the environment can contaminate food sources, leading to potential poisoning and other health problems. Pollution can also damage the environment, from lakes and rivers to land and the oceans. \n",
      "\n",
      "The economic and environmental impacts of pollution are not limited to local or even national boundaries. Air pollution, for example, can cause acid rain with damaging consequences for ecosystems and agricultural production far away from the source of pollution. The effects of pollution can be very long-lasting, damaging the environment and human health for decades to come. \n",
      "\n",
      "So what needs to be done? The root of the problem is our dependence on fossil fuels, which must be reduced. To solve this, governments must invest in renewable energies, such as solar, wind, and hydropower. These cleaner sources of energy have a lower environmental impact and are far less harmful to human health. Such investments can create new jobs, stimulate the economy, and help create a healthier, more sustainable world. \n",
      "\n",
      "In conclusion, pollution is a\n",
      "Result: Below is an instruction that describes a task, paired with an input that provides further context. Write a response that appropriately completes the request.\n",
      "        ### Instruction:\n",
      "        Act as an expert deabater and generate an essay consisting of around 200 words for the following topic. Generate the essay while assuming only the 'con' stance.\n",
      "        ### Input:\n",
      "        Pollution\n",
      "      \t### Response:Pollution is one of the greatest global challenges of our time. air, water, and land are becoming increasingly contaminated due to industrial activities and the emissions from burning of fossil fuels. Air pollution has become a major public health issue, with its effect exacerbated by climate change. There has been a dramatic increase in cases of respiratory diseases, due to poor air quality and increased concentrations of other pollutants. Furthermore, prolonged exposure to polluted air has been linked to an increased risk of developing cancer. Water pollution is also damaging aquatic ecosystems and the species that depend on them, while land pollution has been linked to negative impacts on crop yield and soil fertility. Pollution has a serious impact on the environment, and poses a major threat to our natural resources and our health. ⁇  ⁇  ⁇  ⁇  ⁇  ⁇  ⁇  ⁇  ⁇  ⁇  ⁇  ⁇  ⁇  ⁇  ⁇  ⁇  ⁇  ⁇  ⁇  ⁇  ⁇  ⁇  ⁇  ⁇  ⁇  ⁇  ⁇  ⁇  ⁇  ⁇  ⁇  ⁇  ⁇  ⁇  ⁇  ⁇  ⁇  ⁇  ⁇  ⁇  ⁇  ⁇  ⁇  ⁇  ⁇  ⁇  ⁇  ⁇  ⁇  ⁇  ⁇  ⁇  ⁇  ⁇  ⁇  ⁇  ⁇  ⁇  ⁇  ⁇  ⁇  ⁇  ⁇  ⁇  ⁇  ⁇  ⁇  ⁇  ⁇  ⁇  ⁇  ⁇  ⁇  ⁇  ⁇  ⁇  ⁇  ⁇  ⁇  ⁇  ⁇  ⁇  ⁇  ⁇  ⁇  ⁇  ⁇  ⁇  ⁇  ⁇  ⁇  ⁇  ⁇  ⁇  ⁇  ⁇  ⁇  ⁇  ⁇  ⁇  ⁇  ⁇  ⁇  ⁇  ⁇  ⁇  ⁇  ⁇  ⁇  ⁇  ⁇  ⁇  ⁇  ⁇  ⁇  ⁇  ⁇  ⁇  ⁇  ⁇  ⁇  ⁇  ⁇  ⁇  ⁇  ⁇  ⁇  ⁇  ⁇  ⁇  ⁇  ⁇  ⁇  ⁇  ⁇  ⁇  ⁇  ⁇  ⁇  ⁇  ⁇  ⁇  ⁇  ⁇  ⁇  ⁇  ⁇  ⁇  ⁇  ⁇  ⁇  ⁇  ⁇  ⁇  ⁇  ⁇  ⁇  ⁇  ⁇  ⁇  ⁇  ⁇  ⁇  ⁇  ⁇  ⁇  ⁇  ⁇  ⁇  ⁇  ⁇  ⁇  ⁇  ⁇  ⁇  ⁇  ⁇  ⁇  ⁇  ⁇  ⁇  ⁇  ⁇  ⁇  ⁇  ⁇  ⁇  ⁇  ⁇  ⁇  ⁇  ⁇  ⁇  ⁇  ⁇  ⁇  ⁇  ⁇  ⁇  ⁇  ⁇  ⁇  ⁇  ⁇  ⁇  ⁇  ⁇  ⁇  ⁇  ⁇  ⁇  ⁇  ⁇  ⁇  ⁇  ⁇  ⁇  ⁇  ⁇  ⁇ \n",
      "Result: Below is an instruction that describes a task, paired with an input that provides further context. Write a response that appropriately completes the request.\n",
      "        ### Instruction:\n",
      "        Act as an expert deabater and generate an essay consisting of around 200 words for the following topic. Generate the essay while assuming only the 'con' stance.\n",
      "        ### Input:\n",
      "        Pollution\n",
      "      \t### Response:Pollution is one of the greatest environmental problems facing the world today. Every year, humans pour massive amounts of harmful chemicals and particulate matter into the atmosphere. These substances are released in the form of gases, smoke, and ash, and can have serious long-term effects on the environment. The air, water, and land are all affected by pollution, which can lead to further global warming and climate change. Additionally, this pollution can also cause serious health problems for humans, animals, and fish. The damage caused by pollution cannot be undone, so it is important to take measures to reduce it and protect our environment. ⁇  ⁇  ⁇  ⁇  ⁇  ⁇  ⁇  ⁇  ⁇  ⁇  ⁇  ⁇  ⁇  ⁇  ⁇  ⁇  ⁇  ⁇  ⁇  ⁇  ⁇  ⁇  ⁇  ⁇  ⁇  ⁇  ⁇  ⁇  ⁇  ⁇  ⁇  ⁇  ⁇  ⁇  ⁇  ⁇  ⁇  ⁇  ⁇  ⁇  ⁇  ⁇  ⁇  ⁇  ⁇  ⁇  ⁇  ⁇  ⁇  ⁇  ⁇  ⁇  ⁇  ⁇  ⁇  ⁇  ⁇  ⁇  ⁇  ⁇  ⁇  ⁇  ⁇  ⁇  ⁇  ⁇  ⁇  ⁇  ⁇  ⁇  ⁇  ⁇  ⁇  ⁇  ⁇  ⁇  ⁇  ⁇  ⁇  ⁇  ⁇  ⁇  ⁇  ⁇  ⁇  ⁇  ⁇  ⁇  ⁇  ⁇  ⁇  ⁇  ⁇  ⁇  ⁇  ⁇  ⁇  ⁇  ⁇  ⁇  ⁇  ⁇  ⁇  ⁇  ⁇  ⁇  ⁇  ⁇  ⁇  ⁇  ⁇  ⁇  ⁇  ⁇  ⁇  ⁇  ⁇  ⁇  ⁇  ⁇  ⁇  ⁇  ⁇  ⁇  ⁇  ⁇  ⁇  ⁇  ⁇  ⁇  ⁇  ⁇  ⁇  ⁇  ⁇  ⁇  ⁇  ⁇  ⁇  ⁇  ⁇  ⁇  ⁇  ⁇  ⁇  ⁇  ⁇  ⁇  ⁇  ⁇  ⁇  ⁇  ⁇  ⁇  ⁇  ⁇  ⁇  ⁇  ⁇  ⁇  ⁇  ⁇  ⁇  ⁇  ⁇  ⁇  ⁇  ⁇  ⁇  ⁇  ⁇  ⁇  ⁇  ⁇  ⁇  ⁇  ⁇  ⁇  ⁇  ⁇  ⁇  ⁇  ⁇  ⁇  ⁇  ⁇  ⁇  ⁇  ⁇  ⁇  ⁇  ⁇  ⁇  ⁇  ⁇  ⁇  ⁇  ⁇  ⁇  ⁇  ⁇  ⁇  ⁇  ⁇  ⁇  ⁇  ⁇  ⁇  ⁇  ⁇  ⁇  ⁇  ⁇  ⁇  ⁇  ⁇  ⁇  ⁇  ⁇  ⁇  ⁇  ⁇  ⁇  ⁇  ⁇  ⁇  ⁇  ⁇  ⁇  ⁇  ⁇  ⁇  ⁇  ⁇  ⁇  ⁇  ⁇  ⁇  ⁇  ⁇  ⁇  ⁇  ⁇  ⁇  ⁇  ⁇  ⁇  ⁇  ⁇  ⁇  ⁇  ⁇  ⁇  ⁇  ⁇  ⁇  ⁇  ⁇  ⁇  ⁇  ⁇  ⁇  ⁇  ⁇  ⁇  ⁇  ⁇  ⁇  ⁇ \n"
     ]
    }
   ],
   "source": [
    "instruction = \"Act as an expert deabater and generate an essay consisting of around 200 words for the following topic. Generate the essay while assuming only the 'con' stance.\" #give appropriate instruction\n",
    "input_ctxt = \"Pollution\"\n",
    "sequences = pipeline(\n",
    "    generate_prompt(instruction, input_ctxt),\n",
    "    min_length=500,\n",
    "    max_length=900,\n",
    "    do_sample=True,\n",
    "    top_k=30,\n",
    "    num_return_sequences=4,\n",
    "    eos_token_id=tokenizer.eos_token_id,\n",
    ")\n",
    "for seq in sequences:\n",
    "    print(f\"Result: {seq['generated_text']}\")"
   ]
  },
  {
   "cell_type": "code",
   "execution_count": 12,
   "id": "3c0e3681-6f4b-48b7-9afe-a0497f14068e",
   "metadata": {
    "tags": []
   },
   "outputs": [
    {
     "name": "stdout",
     "output_type": "stream",
     "text": [
      "Result: Below is an instruction that describes a task, paired with an input that provides further context. Write a response that appropriately completes the request.\n",
      "        ### Instruction:\n",
      "        Act as an expert debater and generate 10 arguments for and against the following topic.\n",
      "        ### Input:\n",
      "        fractional reserve banking\n",
      "      \t### Response:Arguments for fractional reserve banking:\n",
      "1. It provides liquidity to the economy by facilitating the creation of loans. \n",
      "2. It improves the efficiency of capital allocation by allowing banks to make loans to productive sectors.\n",
      "3. It makes it easier for businesses to access credit.\n",
      "4. It helps stabilize the economy by preventing bank runs.\n",
      "5. It minimizes the risks of excessive borrowing and leveraging.\n",
      "6. It helps reduce volatility in the financial system.\n",
      "7. It is a useful tool to promote economic growth.\n",
      "8. It enables financial deepening by allowing for greater access to banking services. \n",
      "9. It increases the stability and efficiency of international payments and transfers. \n",
      "10. It facilitates the efficient provision of risk management services.\n",
      "Arguments against fractional reserve banking:\n",
      "1. It can lead to financial instability as it increases the likelihood of a bank panic.\n",
      "2. It can create moral hazard as banks may take on excessive risk due to its implicit guarantee.\n",
      "3. It may encourage excessive leverage, leading to amplified losses during a financial crisis.\n",
      "4. It can create a perverse incentive for banks to take on risky loans, knowing the Federal Reserve will back them up. \n",
      "5. It can lead to an unstable monetary environment as the money supply is not limited to the amount of gold or other tangible assets.\n",
      "6. It can lead to a decrease in the value of depositors’ savings due to inflation.\n",
      "7. It may introduce inflationary pressures that erode the value of people’s money.\n",
      "8. It can give rise to an oligarchy as the large banks gain more control over the financial system. \n",
      "9. It has been linked to an unstable global economy and the 2008 financial crisis. \n",
      "10. It creates a risk of\n",
      "Result: Below is an instruction that describes a task, paired with an input that provides further context. Write a response that appropriately completes the request.\n",
      "        ### Instruction:\n",
      "        Act as an expert debater and generate 10 arguments for and against the following topic.\n",
      "        ### Input:\n",
      "        fractional reserve banking\n",
      "      \t### Response:Arguments for fractional reserve banking: \n",
      "1. It allows banks to provide customers with greater flexibility and convenience by offering loans and deposits. \n",
      "2. It encourages economic growth by providing access to additional capital.\n",
      "3. It minimizes the risk of runs on banks as depositors can’t withdraw all their funds at once.\n",
      "4. It helps to ensure there is always adequate funds available to meet transactions needs.\n",
      "5. It facilitates economic stability by smoothing out boom and bust cycles. \n",
      "6. It increases the money supply without needing to print more physical money.\n",
      "7. It enables banks to create money from nothing, which lowers borrowing costs for businesses.\n",
      "8. It allows banks to create new money to finance government deficits. \n",
      "9. It provides an incentive for banks to lend responsibly and keep their risk exposure under control. \n",
      "Arguments against fractional reserve banking: \n",
      "1. It can be used as a mechanism to inflate asset prices and create economic bubbles.\n",
      "2. It increases the risk of a banking crisis if banks are not adequately capitalized. \n",
      "3. It can be used to generate profits for banks at the expense of depositors. \n",
      "4. It has led to a concentrations of power and wealth in the hands of the banking industry. \n",
      "5. It can be used to transfer wealth from savers to borrowers. \n",
      "6. It reduces price stability and encourages banks to speculate rather than lend. \n",
      "7. It increases the risk of a deflationary spiral and diminishes the value of money.\n",
      "8. It increases the risk of a crisis of confidence in the banking system. ⁇  ⁇  ⁇  ⁇  ⁇  ⁇  ⁇  ⁇  ⁇  ⁇  ⁇  ⁇  ⁇  ⁇  ⁇  ⁇  ⁇  ⁇  ⁇  ⁇  ⁇  ⁇  ⁇  ⁇  ⁇  ⁇  ⁇  ⁇  ⁇  ⁇  ⁇  ⁇  ⁇  ⁇  ⁇  ⁇  ⁇  ⁇  ⁇  ⁇  ⁇  ⁇  ⁇  ⁇  ⁇ \n"
     ]
    }
   ],
   "source": [
    "instruction =\"Act as an expert debater and generate 10 arguments for and against the following topic.\"\n",
    "input_ctxt =\"fractional reserve banking\"\n",
    "sequences = pipeline(\n",
    "    generate_prompt(instruction, input_ctxt),\n",
    "    min_length=500,\n",
    "    max_length=900,\n",
    "    do_sample=True,\n",
    "    top_k=30,\n",
    "    num_return_sequences=4,\n",
    "    eos_token_id=tokenizer.eos_token_id,\n",
    ")\n",
    "for seq in sequences:\n",
    "    print(f\"Result: {seq['generated_text']}\")"
   ]
  },
  {
   "cell_type": "code",
   "execution_count": null,
   "id": "92f237c3-63eb-48f4-8bb2-c48d7d59df9c",
   "metadata": {},
   "outputs": [],
   "source": []
  }
 ],
 "metadata": {
  "kernelspec": {
   "display_name": "My Software Env",
   "language": "python",
   "name": "newconda"
  },
  "language_info": {
   "codemirror_mode": {
    "name": "ipython",
    "version": 3
   },
   "file_extension": ".py",
   "mimetype": "text/x-python",
   "name": "python",
   "nbconvert_exporter": "python",
   "pygments_lexer": "ipython3",
   "version": "3.8.18"
  }
 },
 "nbformat": 4,
 "nbformat_minor": 5
}
