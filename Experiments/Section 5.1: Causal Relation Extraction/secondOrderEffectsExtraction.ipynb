{
 "cells": [
  {
   "cell_type": "code",
   "execution_count": null,
   "id": "f406a74e-e09e-46a4-9fb9-b6c3b4e34f10",
   "metadata": {
    "tags": []
   },
   "outputs": [],
   "source": [
    "import bz2\n",
    "import json\n",
    "import csv\n",
    "\n",
    "\n",
    "extracted_data = []\n",
    "with bz2.open(\"causenet-full.jsonl.bz2\", 'r') as file: #open the dataset from CauseNet\n",
    "    for line in file: #read the file line by line\n",
    "        extracted_data.append(json.loads(line))\n",
    "\n",
    "\n",
    "with open(\"/Extracted Causal Relationship/firstOrderEffects.csv\", 'r') as csvfile: #open the file with extracted causal relationships of the first order\n",
    "        newCsv = csv.DictReader(csvfile)\n",
    "        with open('secondOrderEffects.csv', 'w', newline='') as writefile: #initialize the output file\n",
    "            fieldnames = ['cause', 'effect', 'sentence', 'source'] #header for each column\n",
    "            writer = csv.DictWriter(writefile, fieldnames=fieldnames)\n",
    "            writer.writeheader()\n",
    "            for row in newCsv:\n",
    "                for extract in extracted_data: #for each causal relationship extracted from CauseNet\n",
    "                    #extract = json.loads(line)\n",
    "                    if extract['causal_relation']['cause']['concept'] == row['effect']: #extract the relations where the 'Effect' of the first Order is the 'Cause' in the extracted relation from CauseNet\n",
    "                        if extract['sources'][0]['type'] == 'wikipedia_sentence': #if the source is wikipedia sentence\n",
    "                                causal_relation = extract['causal_relation'] #extract the causal relation\n",
    "                                cause = causal_relation['cause']['concept'] #extract the cause\n",
    "                                effect = causal_relation['effect']['concept'] #extract the effect\n",
    "                                sentence = extract['sources'][0]['payload']['sentence'] #extract the sentence from which the relation was extracted\n",
    "                                source = 'wikipedia_sentence' #extract the source\n",
    "                                writer.writerow({'cause': cause, 'effect': effect, 'sentence': sentence, 'source': source}) #write to the output file\n",
    "                        elif extract['sources'][0]['type'] == 'wikipedia_infobox': #if the source is wikipedia infobox\n",
    "                                causal_relation = extract['causal_relation'] #extract the causal relation\n",
    "                                cause = causal_relation['cause']['concept'] #extract the cause\n",
    "                                effect = causal_relation['effect']['concept'] #extract the effect\n",
    "                                sentence = '' #infobox has no sentence\n",
    "                                source = 'wikipedia_infobox' #add the source\n",
    "                                writer.writerow({'cause': cause, 'effect': effect, 'sentence': sentence, 'source': source}) #write to the output file\n",
    "                        elif extract['sources'][0]['type'] == 'wikipedia_list': #if the source is wikipedia list\n",
    "                                causal_relation = extract['causal_relation'] #extract the causal relation\n",
    "                                cause = causal_relation['cause']['concept'] #extract the cause\n",
    "                                effect = causal_relation['effect']['concept'] #extract the effect\n",
    "                                sentence = '' #list has no sentence\n",
    "                                source = 'wikipedia_list' #add the source\n",
    "                                writer.writerow({'cause': cause, 'effect': effect, 'sentence': sentence, 'source': source}) #write to the output file\n",
    "\n"
   ]
  },
  {
   "cell_type": "code",
   "execution_count": null,
   "id": "30e9b5b1-9bb1-4318-9870-34a72d6cc781",
   "metadata": {},
   "outputs": [],
   "source": []
  }
 ],
 "metadata": {
  "kernelspec": {
   "display_name": "Python 3 (ipykernel)",
   "language": "python",
   "name": "python3"
  },
  "language_info": {
   "codemirror_mode": {
    "name": "ipython",
    "version": 3
   },
   "file_extension": ".py",
   "mimetype": "text/x-python",
   "name": "python",
   "nbconvert_exporter": "python",
   "pygments_lexer": "ipython3",
   "version": "3.10.8"
  }
 },
 "nbformat": 4,
 "nbformat_minor": 5
}
