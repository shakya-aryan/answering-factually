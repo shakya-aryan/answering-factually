{
 "cells": [
  {
   "cell_type": "code",
   "execution_count": null,
   "id": "27c61c75-812d-4cc7-beb2-cb99d55abf66",
   "metadata": {},
   "outputs": [],
   "source": [
    "import bz2\n",
    "import json\n",
    "import csv\n",
    "\n",
    "topics = [] ##all chosen topics will be added in this array \n",
    "\n",
    "with open(\"topics.csv\", 'r') as readfile: #insert the csv file where the topics are listed. The structure should be one column consiting of the header 'topics'\n",
    "        topicsCsv = csv.DictReader(readfile)\n",
    "        for row in topicsCsv:\n",
    "            if row['topics'] not in topics: #add all the topics not yet in the array to the array\n",
    "                topics.append(row['topics'])\n",
    "\n",
    "with bz2.open(\"causenet-full.jsonl.bz2\", 'r') as file: #open the dataset from CauseNet\n",
    "        with open('/Extracted Causal Relationships/firstOrderEffects.csv', 'w', newline='') as csvfile: #data where the extracted topics will be written\n",
    "                fieldnames = ['cause', 'effect', 'sentence', 'source'] #headers of each column\n",
    "                writer = csv.DictWriter(csvfile, fieldnames=fieldnames) \n",
    "                writer.writeheader()\n",
    "                for line in file: #load each line/row one by one from the dataset\n",
    "                    match = json.loads(line)\n",
    "                    causal_relation = match['causal_relation'] #extract the complete causal relation\n",
    "                    cause = causal_relation['cause']['concept'] #extract the cause\n",
    "                    effect = causal_relation['effect']['concept'] #extract the effect\n",
    "                    sentence = '' #init\n",
    "                    source = '' #init\n",
    "                    if match['causal_relation']['effect']['concept'] in topics: #if the extracted effect is one of our chosen topics (we extract the cause for the chosen topic)\n",
    "                        if match['sources'][0]['type'] == 'wikipedia_sentence': #if the source of the causal relationship is a wikipedia sentence \n",
    "                            sentence = match[\"sources\"][0][\"payload\"][\"sentence\"] #add the source sentence\n",
    "                            source = 'wikipedia_sentence' #add the source\n",
    "                            writer.writerow({'cause': cause, 'effect': effect, 'sentence': sentence, 'source': source}) #write the extracted data to the output file\n",
    "                        elif match['sources'][0]['type'] == 'wikipedia_infobox': #if the source of the causal relationship is a wikipedia infobox \n",
    "                            sentence = '' #infobox has no sentence\n",
    "                            source = 'wikipedia_infobox' #add the source\n",
    "                            writer.writerow({'cause': cause, 'effect': effect, 'sentence': sentence, 'source': source}) #write the extracted data to the output file\n",
    "                        elif match['sources'][0]['type'] == 'wikipedia_list': #if the source of the causal relationship is a wikipedia list\n",
    "                            sentence = '' #list has no sentence\n",
    "                            source = 'wikipedia_list' #add the source\n",
    "                            writer.writerow({'cause': cause, 'effect': effect, 'sentence': sentence, 'source': source}) #write the extracted data to the output file\n"
   ]
  }
 ],
 "metadata": {
  "kernelspec": {
   "display_name": "Fine-Tuning Environment",
   "language": "python",
   "name": "newenv"
  },
  "language_info": {
   "codemirror_mode": {
    "name": "ipython",
    "version": 3
   },
   "file_extension": ".py",
   "mimetype": "text/x-python",
   "name": "python",
   "nbconvert_exporter": "python",
   "pygments_lexer": "ipython3",
   "version": "3.8.18"
  }
 },
 "nbformat": 4,
 "nbformat_minor": 5
}
