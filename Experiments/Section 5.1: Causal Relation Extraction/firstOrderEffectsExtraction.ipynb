{
 "cells": [
  {
   "cell_type": "code",
   "execution_count": 3,
   "id": "2dbe1903-2cad-48b2-a0ca-846380673d99",
   "metadata": {
    "tags": []
   },
   "outputs": [
    {
     "ename": "FileNotFoundError",
     "evalue": "[Errno 2] No such file or directory: '/Extracted Causal Relationships/firstOrderEffects.csv'",
     "output_type": "error",
     "traceback": [
      "\u001b[0;31m---------------------------------------------------------------------------\u001b[0m",
      "\u001b[0;31mFileNotFoundError\u001b[0m                         Traceback (most recent call last)",
      "Cell \u001b[0;32mIn[3], line 14\u001b[0m\n\u001b[1;32m     11\u001b[0m                 topics\u001b[39m.\u001b[39mappend(row[\u001b[39m'\u001b[39m\u001b[39mtopics\u001b[39m\u001b[39m'\u001b[39m])\n\u001b[1;32m     13\u001b[0m \u001b[39mwith\u001b[39;00m bz2\u001b[39m.\u001b[39mopen(\u001b[39m\"\u001b[39m\u001b[39mcausenet-full.jsonl.bz2\u001b[39m\u001b[39m\"\u001b[39m, \u001b[39m'\u001b[39m\u001b[39mr\u001b[39m\u001b[39m'\u001b[39m) \u001b[39mas\u001b[39;00m file: \u001b[39m#open the dataset from CauseNet\u001b[39;00m\n\u001b[0;32m---> 14\u001b[0m         \u001b[39mwith\u001b[39;00m \u001b[39mopen\u001b[39;49m(\u001b[39m'\u001b[39;49m\u001b[39m/Extracted Causal Relationships/firstOrderEffects.csv\u001b[39;49m\u001b[39m'\u001b[39;49m, \u001b[39m'\u001b[39;49m\u001b[39mw\u001b[39;49m\u001b[39m'\u001b[39;49m, newline\u001b[39m=\u001b[39;49m\u001b[39m'\u001b[39;49m\u001b[39m'\u001b[39;49m) \u001b[39mas\u001b[39;00m csvfile: \u001b[39m#data where the extracted topics will be written\u001b[39;00m\n\u001b[1;32m     15\u001b[0m                 fieldnames \u001b[39m=\u001b[39m [\u001b[39m'\u001b[39m\u001b[39mcause\u001b[39m\u001b[39m'\u001b[39m, \u001b[39m'\u001b[39m\u001b[39meffect\u001b[39m\u001b[39m'\u001b[39m, \u001b[39m'\u001b[39m\u001b[39msentence\u001b[39m\u001b[39m'\u001b[39m, \u001b[39m'\u001b[39m\u001b[39msource\u001b[39m\u001b[39m'\u001b[39m] \u001b[39m#headers of each column\u001b[39;00m\n\u001b[1;32m     16\u001b[0m                 writer \u001b[39m=\u001b[39m csv\u001b[39m.\u001b[39mDictWriter(csvfile, fieldnames\u001b[39m=\u001b[39mfieldnames) \n",
      "File \u001b[0;32m~/.local/lib/python3.10/site-packages/IPython/core/interactiveshell.py:324\u001b[0m, in \u001b[0;36m_modified_open\u001b[0;34m(file, *args, **kwargs)\u001b[0m\n\u001b[1;32m    317\u001b[0m \u001b[39mif\u001b[39;00m file \u001b[39min\u001b[39;00m {\u001b[39m0\u001b[39m, \u001b[39m1\u001b[39m, \u001b[39m2\u001b[39m}:\n\u001b[1;32m    318\u001b[0m     \u001b[39mraise\u001b[39;00m \u001b[39mValueError\u001b[39;00m(\n\u001b[1;32m    319\u001b[0m         \u001b[39mf\u001b[39m\u001b[39m\"\u001b[39m\u001b[39mIPython won\u001b[39m\u001b[39m'\u001b[39m\u001b[39mt let you open fd=\u001b[39m\u001b[39m{\u001b[39;00mfile\u001b[39m}\u001b[39;00m\u001b[39m by default \u001b[39m\u001b[39m\"\u001b[39m\n\u001b[1;32m    320\u001b[0m         \u001b[39m\"\u001b[39m\u001b[39mas it is likely to crash IPython. If you know what you are doing, \u001b[39m\u001b[39m\"\u001b[39m\n\u001b[1;32m    321\u001b[0m         \u001b[39m\"\u001b[39m\u001b[39myou can use builtins\u001b[39m\u001b[39m'\u001b[39m\u001b[39m open.\u001b[39m\u001b[39m\"\u001b[39m\n\u001b[1;32m    322\u001b[0m     )\n\u001b[0;32m--> 324\u001b[0m \u001b[39mreturn\u001b[39;00m io_open(file, \u001b[39m*\u001b[39;49margs, \u001b[39m*\u001b[39;49m\u001b[39m*\u001b[39;49mkwargs)\n",
      "\u001b[0;31mFileNotFoundError\u001b[0m: [Errno 2] No such file or directory: '/Extracted Causal Relationships/firstOrderEffects.csv'"
     ]
    }
   ],
   "source": [
    "import bz2\n",
    "import json\n",
    "import csv\n",
    "\n",
    "topics = [] ##all chosen topics will be added in this array \n",
    "\n",
    "with open(\"topics.csv\", 'r') as readfile: #insert the csv file where the topics are listed. The structure should be one column consiting of the header 'topics'\n",
    "        topicsCsv = csv.DictReader(readfile)\n",
    "        for row in topicsCsv:\n",
    "            if row['topics'] not in topics: #add all the topics not yet in the array to the array\n",
    "                topics.append(row['topics'])\n",
    "\n",
    "with bz2.open(\"causenet-full.jsonl.bz2\", 'r') as file: #open the dataset from CauseNet\n",
    "        with open('/Extracted Causal Relationships/firstOrderEffects.csv', 'w', newline='') as csvfile: #data where the extracted topics will be written\n",
    "                fieldnames = ['cause', 'effect', 'sentence', 'source'] #headers of each column\n",
    "                writer = csv.DictWriter(csvfile, fieldnames=fieldnames) \n",
    "                writer.writeheader()\n",
    "                for line in file: #load each line/row one by one from the dataset\n",
    "                    match = json.loads(line)\n",
    "                    causal_relation = match['causal_relation'] #extract the complete causal relation\n",
    "                    cause = causal_relation['cause']['concept'] #extract the cause\n",
    "                    effect = causal_relation['effect']['concept'] #extract the effect\n",
    "                    sentence = '' #init\n",
    "                    source = '' #init\n",
    "                    if match['causal_relation']['cause']['concept'] in topics: #if the extracted cause is one of our chosen topics\n",
    "                        if match['sources'][0]['type'] == 'wikipedia_sentence': #if the source of the causal relationship is a wikipedia sentence \n",
    "                            sentence = match[\"sources\"][0][\"payload\"][\"sentence\"] #add the source sentence\n",
    "                            source = 'wikipedia_sentence' #add the source\n",
    "                            writer.writerow({'cause': cause, 'effect': effect, 'sentence': sentence, 'source': source}) #write the extracted data to the output file\n",
    "                        elif match['sources'][0]['type'] == 'wikipedia_infobox': #if the source of the causal relationship is a wikipedia infobox \n",
    "                            sentence = '' #infobox has no sentence\n",
    "                            source = 'wikipedia_infobox' #add the source\n",
    "                            writer.writerow({'cause': cause, 'effect': effect, 'sentence': sentence, 'source': source}) #write the extracted data to the output file\n",
    "                        elif match['sources'][0]['type'] == 'wikipedia_list': #if the source of the causal relationship is a wikipedia list\n",
    "                            sentence = '' #list has no sentence\n",
    "                            source = 'wikipedia_list' #add the source\n",
    "                            writer.writerow({'cause': cause, 'effect': effect, 'sentence': sentence, 'source': source}) #write the extracted data to the output file\n"
   ]
  }
 ],
 "metadata": {
  "kernelspec": {
   "display_name": "Python 3",
   "language": "python",
   "name": "python3"
  },
  "language_info": {
   "codemirror_mode": {
    "name": "ipython",
    "version": 3
   },
   "file_extension": ".py",
   "mimetype": "text/x-python",
   "name": "python",
   "nbconvert_exporter": "python",
   "pygments_lexer": "ipython3",
   "version": "3.10.12"
  }
 },
 "nbformat": 4,
 "nbformat_minor": 5
}
