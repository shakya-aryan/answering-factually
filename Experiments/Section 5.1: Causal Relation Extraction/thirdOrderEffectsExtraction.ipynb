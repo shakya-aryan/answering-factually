{
 "cells": [
  {
   "cell_type": "code",
   "execution_count": 7,
   "id": "75194d94-6c9e-4c32-89f8-2b314ff38897",
   "metadata": {},
   "outputs": [
    {
     "ename": "NameError",
     "evalue": "name 'match' is not defined",
     "output_type": "error",
     "traceback": [
      "\u001b[0;31m---------------------------------------------------------------------------\u001b[0m",
      "\u001b[0;31mNameError\u001b[0m                                 Traceback (most recent call last)",
      "Cell \u001b[0;32mIn[7], line 28\u001b[0m\n\u001b[1;32m     26\u001b[0m cause \u001b[38;5;241m=\u001b[39m causal_relation[\u001b[38;5;124m'\u001b[39m\u001b[38;5;124mcause\u001b[39m\u001b[38;5;124m'\u001b[39m][\u001b[38;5;124m'\u001b[39m\u001b[38;5;124mconcept\u001b[39m\u001b[38;5;124m'\u001b[39m]\n\u001b[1;32m     27\u001b[0m effect \u001b[38;5;241m=\u001b[39m causal_relation[\u001b[38;5;124m'\u001b[39m\u001b[38;5;124meffect\u001b[39m\u001b[38;5;124m'\u001b[39m][\u001b[38;5;124m'\u001b[39m\u001b[38;5;124mconcept\u001b[39m\u001b[38;5;124m'\u001b[39m]\n\u001b[0;32m---> 28\u001b[0m sentence \u001b[38;5;241m=\u001b[39m \u001b[43mmatch\u001b[49m[\u001b[38;5;124m\"\u001b[39m\u001b[38;5;124msources\u001b[39m\u001b[38;5;124m\"\u001b[39m][\u001b[38;5;241m0\u001b[39m][\u001b[38;5;124m\"\u001b[39m\u001b[38;5;124mpayload\u001b[39m\u001b[38;5;124m\"\u001b[39m][\u001b[38;5;124m\"\u001b[39m\u001b[38;5;124msentence\u001b[39m\u001b[38;5;124m\"\u001b[39m]\n\u001b[1;32m     29\u001b[0m source \u001b[38;5;241m=\u001b[39m \u001b[38;5;124m'\u001b[39m\u001b[38;5;124mwikipedia_sentence\u001b[39m\u001b[38;5;124m'\u001b[39m\n\u001b[1;32m     30\u001b[0m writer\u001b[38;5;241m.\u001b[39mwriterow({\u001b[38;5;124m'\u001b[39m\u001b[38;5;124mcause\u001b[39m\u001b[38;5;124m'\u001b[39m: cause, \u001b[38;5;124m'\u001b[39m\u001b[38;5;124meffect\u001b[39m\u001b[38;5;124m'\u001b[39m: effect, \u001b[38;5;124m'\u001b[39m\u001b[38;5;124msentence\u001b[39m\u001b[38;5;124m'\u001b[39m: sentence, \u001b[38;5;124m'\u001b[39m\u001b[38;5;124msource\u001b[39m\u001b[38;5;124m'\u001b[39m: source})\n",
      "\u001b[0;31mNameError\u001b[0m: name 'match' is not defined"
     ]
    }
   ],
   "source": [
    "import bz2\n",
    "import json\n",
    "import csv\n",
    "\n",
    "\n",
    "extracted_data = []\n",
    "with bz2.open(\"/bigwork/nhwpshaa/causenet-full.jsonl.bz2\", 'r') as file: #open the dataset from CauseNet\n",
    "    for line in file: #read the file line by line\n",
    "        extracted_data.append(json.loads(line))\n",
    "\n",
    "\n",
    "with open(\"/bigwork/nhwpshaa/secondOrderZenodo.csv\", 'r') as csvfile: #open the file with extracted causal relationships of the second order\n",
    "        newCsv = csv.DictReader(csvfile)\n",
    "        with open('thirdOrderZenodo.csv', 'w', newline='') as writefile: #initialize the output file\n",
    "            fieldnames = ['cause', 'effect', 'sentence', 'source'] #header for each column\n",
    "            writer = csv.DictWriter(writefile, fieldnames=fieldnames)\n",
    "            writer.writeheader()\n",
    "            for row in newCsv:\n",
    "                for extract in extracted_data: #for each causal relationship extracted from CauseNet\n",
    "                    #extract = json.loads(line)\n",
    "                    if extract['causal_relation']['cause']['concept'] == row['effect']: #extract the relations where the 'Effect' of the second Order is the 'Cause' in the extracted relation from CauseNet. The extracted effect is then the third order effect\n",
    "                        if extract['sources'][0]['type'] == 'wikipedia_sentence': #if the source is wikipedia sentence\n",
    "                                causal_relation = extract['causal_relation'] #extract the causal relation\n",
    "                                cause = causal_relation['cause']['concept'] #extract the cause\n",
    "                                effect = causal_relation['effect']['concept'] #extract the effect\n",
    "                                sentence = extract['sources'][0]['payload']['sentence'] #extract the sentence from which the relation was extracted\n",
    "                                source = 'wikipedia_sentence' #extract the source\n",
    "                                writer.writerow({'cause': cause, 'effect': effect, 'sentence': sentence, 'source': source}) #write to the output file\n",
    "                        elif extract['sources'][0]['type'] == 'wikipedia_infobox': #if the source is wikipedia infobox\n",
    "                                causal_relation = extract['causal_relation'] #extract the causal relation\n",
    "                                cause = causal_relation['cause']['concept'] #extract the cause\n",
    "                                effect = causal_relation['effect']['concept'] #extract the effect\n",
    "                                sentence = '' #infobox has no sentence\n",
    "                                source = 'wikipedia_infobox' #add the source\n",
    "                                writer.writerow({'cause': cause, 'effect': effect, 'sentence': sentence, 'source': source}) #write to the output file\n",
    "                        elif extract['sources'][0]['type'] == 'wikipedia_list': #if the source is wikipedia list\n",
    "                                causal_relation = extract['causal_relation'] #extract the causal relation\n",
    "                                cause = causal_relation['cause']['concept'] #extract the cause\n",
    "                                effect = causal_relation['effect']['concept'] #extract the effect\n",
    "                                sentence = '' #list has no sentence\n",
    "                                source = 'wikipedia_list' #add the source\n",
    "                                writer.writerow({'cause': cause, 'effect': effect, 'sentence': sentence, 'source': source}) #write to the output file\n",
    "\n"
   ]
  },
  {
   "cell_type": "code",
   "execution_count": null,
   "id": "033728e5-414d-41ce-beea-45583bb275f8",
   "metadata": {},
   "outputs": [],
   "source": []
  }
 ],
 "metadata": {
  "kernelspec": {
   "display_name": "Python 3 (ipykernel)",
   "language": "python",
   "name": "python3"
  },
  "language_info": {
   "codemirror_mode": {
    "name": "ipython",
    "version": 3
   },
   "file_extension": ".py",
   "mimetype": "text/x-python",
   "name": "python",
   "nbconvert_exporter": "python",
   "pygments_lexer": "ipython3",
   "version": "3.10.8"
  }
 },
 "nbformat": 4,
 "nbformat_minor": 5
}
